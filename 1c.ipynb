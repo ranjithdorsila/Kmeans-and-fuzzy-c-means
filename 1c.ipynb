{
  "metadata": {
    "language_info": {
      "codemirror_mode": {
        "name": "python",
        "version": 3
      },
      "file_extension": ".py",
      "mimetype": "text/x-python",
      "name": "python",
      "nbconvert_exporter": "python",
      "pygments_lexer": "ipython3",
      "version": "3.8"
    },
    "kernelspec": {
      "name": "python",
      "display_name": "Python (Pyodide)",
      "language": "python"
    }
  },
  "nbformat_minor": 4,
  "nbformat": 4,
  "cells": [
    {
      "cell_type": "code",
      "source": "import numpy as np\nimport pandas as pd\nimport matplotlib.pyplot as plt\nimport math\nimport sys",
      "metadata": {
        "trusted": true
      },
      "execution_count": 1,
      "outputs": []
    },
    {
      "cell_type": "code",
      "source": "s = 'flu_data.csv'\ndf = pd.read_csv(s)\nkey1=['Risk','NoFaceContact','Sick']\nd1=pd.DataFrame(df[key1])\nd1['Sick'].fillna(value=np.mean(d1['Sick']),inplace=True)",
      "metadata": {
        "trusted": true
      },
      "execution_count": 10,
      "outputs": []
    },
    {
      "cell_type": "code",
      "source": "def clustercentroid(cluster):\n x = [c[0] for c in cluster]\n y = [c[1] for c in cluster]\n z = [c[2] for c in cluster]\n size = len(cluster)\n cx = sum(x)/size\n cy = sum(y)/size\n cz = sum(z)/size\n return [cx,cy,cz]",
      "metadata": {
        "trusted": true
      },
      "execution_count": 11,
      "outputs": []
    },
    {
      "cell_type": "code",
      "source": "def kmeansdunn(d,k,maxiter):\n    data=np.array(d)\n    n,m=data.shape\n    centers=[[] for i in range(k)]\n    for i in range(k):\n        centers[i]=data[i,:]\n    clusters=[[] for i in range(k)]\n    dc=[[] for i in range(k)]\n    cent=[[] for i in range(k)]\n    distances=[[[] for j in range(k)] for i in range(n)]\n    for iter in range(maxiter):\n        clusters=[[] for i in range(k)]    \n        for i in range(n):\n            for j in range(k):\n                distances[i][j]=math.sqrt(((centers[j][0]-data[i,0])*(centers[j][0]-data[i,0]))+((centers[j][1]-data[i,1])*(centers[j][1]-data[i,1]))+((centers[j][2]-data[i,2])*(centers[j][2]-data[i,2])))\n            dc=distances[i]    \n            clusters[dc.index(min(dc))].append([data[i,0],data[i,1],data[i,2]])  \n        for i in range(k):\n            cent[i]=clustercentroid(clusters[i])   \n        centers=cent\n    mn = sys.maxsize\n    for i in range(k):\n        for j in range(i+1,k):\n            for h in range(len(clusters[i])):\n                for l in range(len(clusters[j])):\n                    dist=math.dist(data[i],data[j])\n                    if(dist < mn):\n                        mn=dist        \n    mx=0           \n    for g in range(k):\n        for i in range(len(clusters[g])):\n            for j in range(i+1,len(clusters[g])):\n                dist=math.dist(clusters[g][i],clusters[g][j])\n                if(dist > mx):\n                    mx=dist \n    index=mn/mx\n    return index",
      "metadata": {
        "trusted": true
      },
      "execution_count": 12,
      "outputs": []
    },
    {
      "cell_type": "code",
      "source": "mx=0\nfor i in range(2,11):\n    di=kmeansdunn(d1,i,10)\n    print(\"dunn index for k = {} is {}\".format(i,di))\n    if(di > mx):\n        mx=di\n        kvalue=i\nprint(\"max dunn index is for k={}, value is {} so it gives better clustering\".format(kvalue,mx))   ",
      "metadata": {
        "trusted": true
      },
      "execution_count": 13,
      "outputs": [
        {
          "name": "stdout",
          "text": "dunn index for k = 2 is 0.2323261014870517\ndunn index for k = 3 is 0.26106128900856623\ndunn index for k = 4 is 0.1892419506456542\ndunn index for k = 5 is 0.06362721996176088\ndunn index for k = 6 is 0.06639282077952885\ndunn index for k = 7 is 0.06639282077952885\ndunn index for k = 8 is 0.0326244625081792\ndunn index for k = 9 is 0.03126548665608405\ndunn index for k = 10 is 0.00246559792148187\nmax dunn index is for k=3, value is 0.26106128900856623 so it gives better clustering\n",
          "output_type": "stream"
        }
      ]
    },
    {
      "cell_type": "code",
      "source": "",
      "metadata": {},
      "execution_count": null,
      "outputs": []
    }
  ]
}