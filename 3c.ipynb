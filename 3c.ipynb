{
  "metadata": {
    "language_info": {
      "codemirror_mode": {
        "name": "python",
        "version": 3
      },
      "file_extension": ".py",
      "mimetype": "text/x-python",
      "name": "python",
      "nbconvert_exporter": "python",
      "pygments_lexer": "ipython3",
      "version": "3.8"
    },
    "kernelspec": {
      "name": "python",
      "display_name": "Python (Pyodide)",
      "language": "python"
    }
  },
  "nbformat_minor": 4,
  "nbformat": 4,
  "cells": [
    {
      "cell_type": "code",
      "source": "import numpy as np\nimport pandas as pd\nimport matplotlib.pyplot as plt\nimport math\nimport sys\nimport random",
      "metadata": {
        "trusted": true
      },
      "execution_count": 5,
      "outputs": []
    },
    {
      "cell_type": "code",
      "source": "s = 'flu_data.csv'\ndf = pd.read_csv(s)\nkey=['Risk','NoFaceContact','Sick','HndWshFreq','HndWshQual']\nd=pd.DataFrame(df[key])\nd['Sick'].fillna(value=np.mean(d['Sick']),inplace=True)",
      "metadata": {
        "trusted": true
      },
      "execution_count": 6,
      "outputs": []
    },
    {
      "cell_type": "code",
      "source": "def fuzzy5(d,k,m,maxiter):\n    error=100\n    data=np.array(d)\n    n,m=data.shape\n    centers=[[] for i in range(k)]\n    membership=[]\n    cent=[[] for i in range(k)]\n    distances=[[[] for j in range(k)] for i in range(n)]\n    for i in range(n):\n        x =round(random.uniform(0.001,1),3)\n        y=round(random.uniform(0.001, 1-x),3)\n        z=round(random.uniform(0.001,1-x-y),3)\n        u=round(random.uniform(0.001,1-x-y-z),3)\n        v=round(1-x-y-z-u,3)\n        membership.append([x,y,z,u,v])\n    for j in range(k):\n            num=0\n            den=0\n            for i in range(n):\n                num=num+(math.pow(membership[i][j],m)*data[i])\n                den=den+(math.pow(membership[i][j],m))\n            centers[j]=num/den  \n    cent=centers        \n    for ite in range(maxiter):\n        if(error < 0.00000001):\n            break\n        for i in range(n):\n            for j in range(k):\n                distances[i][j]=math.sqrt(((centers[j][0]-data[i,0])*(centers[j][0]-data[i,0]))+((centers[j][1]-data[i,1])*(centers[j][1]-data[i,1]))+((centers[j][2]-data[i,2])*(centers[j][2]-data[i,2]))+((centers[j][3]-data[i,3])*(centers[j][3]-data[i,3]))+((centers[j][4]-data[i,4])*(centers[j][4]-data[i,4])))\n                if(distances[i][j]==0):\n                    distances[i][j]=0.001\n        for i in range(n):\n            for j in range(k):\n                p=0\n                for f in range(k):\n                    p=p+((math.pow(distances[i][j],(2/(m-1))))/(math.pow(distances[i][f],(2/(m-1))))) \n                membership[i][j]=round(1/p,3)       \n        for j in range(k):\n            num=0\n            den=0\n            for i in range(n):\n                num=num+(math.pow(membership[i][j],m)*data[i])\n                den=den+(math.pow(membership[i][j],m))\n            centers[j]=num/den   \n        su=0    \n        for i in range(k): \n            su=su+math.dist(centers[i],cent[i])    \n        cent=centers\n        error=su/k    \n    for g in centers:\n        print(g)    \nfuzzy5(d,3,2,20)",
      "metadata": {
        "trusted": true
      },
      "execution_count": 9,
      "outputs": [
        {
          "name": "stdout",
          "text": "[-0.09946142  2.71626805  1.01132136  3.21505771  3.92756132]\n[-0.10405003  2.42945493  0.97609835  3.28130957  3.92386345]\n[-0.11235004  2.2205729   0.97338079  3.17952724  3.80553202]\n",
          "output_type": "stream"
        }
      ]
    },
    {
      "cell_type": "code",
      "source": "",
      "metadata": {},
      "execution_count": null,
      "outputs": []
    }
  ]
}