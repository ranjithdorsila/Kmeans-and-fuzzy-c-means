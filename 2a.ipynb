{
  "metadata": {
    "language_info": {
      "codemirror_mode": {
        "name": "python",
        "version": 3
      },
      "file_extension": ".py",
      "mimetype": "text/x-python",
      "name": "python",
      "nbconvert_exporter": "python",
      "pygments_lexer": "ipython3",
      "version": "3.8"
    },
    "kernelspec": {
      "name": "python",
      "display_name": "Python (Pyodide)",
      "language": "python"
    }
  },
  "nbformat_minor": 4,
  "nbformat": 4,
  "cells": [
    {
      "cell_type": "code",
      "source": "import numpy as np\nimport pandas as pd\nimport matplotlib.pyplot as plt\nimport math\nimport sys",
      "metadata": {
        "trusted": true
      },
      "execution_count": 11,
      "outputs": []
    },
    {
      "cell_type": "code",
      "source": "s = 'flu_data.csv'\ndf = pd.read_csv(s)\ndf.head()",
      "metadata": {
        "trusted": true
      },
      "execution_count": 12,
      "outputs": [
        {
          "execution_count": 12,
          "output_type": "execute_result",
          "data": {
            "text/plain": "   Student  Vaccin  HndWshQual  HndWshFreq  SociDist  NoFaceContact  \\\n0        1       3           4           4         2              1   \n1        2       2           4           4         5              2   \n2        3       3           2           2         2              3   \n3        4       3           3           2         2              2   \n4        5       2           5           3         3              2   \n\n   RespEttiqu  PersnDist  HandSanit   Risk  Complications  Barriers  \\\n0           5          1          1 -0.770         -1.453     0.000   \n1           5          4          4 -0.345          0.000    -0.489   \n2           2          2          1 -0.406         -0.575    -0.234   \n3           5          3          1 -0.575         -0.197    -0.429   \n4           5          5          3  0.000         -0.770     0.097   \n\n   Inefficacy  KnowlTrans  KnowlMgmt  Sick  Flu  Female  \n0       0.929      -0.554      0.000   0.0  0.0     1.0  \n1       0.149      -0.554      1.482   1.0  0.0     0.0  \n2       0.693      -0.182     -1.482   0.0  0.0     0.0  \n3       0.000       0.554      0.000   2.0  1.0     NaN  \n4       0.546       0.554      0.684   1.0  0.0     0.0  ",
            "text/html": "<div>\n<style scoped>\n    .dataframe tbody tr th:only-of-type {\n        vertical-align: middle;\n    }\n\n    .dataframe tbody tr th {\n        vertical-align: top;\n    }\n\n    .dataframe thead th {\n        text-align: right;\n    }\n</style>\n<table border=\"1\" class=\"dataframe\">\n  <thead>\n    <tr style=\"text-align: right;\">\n      <th></th>\n      <th>Student</th>\n      <th>Vaccin</th>\n      <th>HndWshQual</th>\n      <th>HndWshFreq</th>\n      <th>SociDist</th>\n      <th>NoFaceContact</th>\n      <th>RespEttiqu</th>\n      <th>PersnDist</th>\n      <th>HandSanit</th>\n      <th>Risk</th>\n      <th>Complications</th>\n      <th>Barriers</th>\n      <th>Inefficacy</th>\n      <th>KnowlTrans</th>\n      <th>KnowlMgmt</th>\n      <th>Sick</th>\n      <th>Flu</th>\n      <th>Female</th>\n    </tr>\n  </thead>\n  <tbody>\n    <tr>\n      <th>0</th>\n      <td>1</td>\n      <td>3</td>\n      <td>4</td>\n      <td>4</td>\n      <td>2</td>\n      <td>1</td>\n      <td>5</td>\n      <td>1</td>\n      <td>1</td>\n      <td>-0.770</td>\n      <td>-1.453</td>\n      <td>0.000</td>\n      <td>0.929</td>\n      <td>-0.554</td>\n      <td>0.000</td>\n      <td>0.0</td>\n      <td>0.0</td>\n      <td>1.0</td>\n    </tr>\n    <tr>\n      <th>1</th>\n      <td>2</td>\n      <td>2</td>\n      <td>4</td>\n      <td>4</td>\n      <td>5</td>\n      <td>2</td>\n      <td>5</td>\n      <td>4</td>\n      <td>4</td>\n      <td>-0.345</td>\n      <td>0.000</td>\n      <td>-0.489</td>\n      <td>0.149</td>\n      <td>-0.554</td>\n      <td>1.482</td>\n      <td>1.0</td>\n      <td>0.0</td>\n      <td>0.0</td>\n    </tr>\n    <tr>\n      <th>2</th>\n      <td>3</td>\n      <td>3</td>\n      <td>2</td>\n      <td>2</td>\n      <td>2</td>\n      <td>3</td>\n      <td>2</td>\n      <td>2</td>\n      <td>1</td>\n      <td>-0.406</td>\n      <td>-0.575</td>\n      <td>-0.234</td>\n      <td>0.693</td>\n      <td>-0.182</td>\n      <td>-1.482</td>\n      <td>0.0</td>\n      <td>0.0</td>\n      <td>0.0</td>\n    </tr>\n    <tr>\n      <th>3</th>\n      <td>4</td>\n      <td>3</td>\n      <td>3</td>\n      <td>2</td>\n      <td>2</td>\n      <td>2</td>\n      <td>5</td>\n      <td>3</td>\n      <td>1</td>\n      <td>-0.575</td>\n      <td>-0.197</td>\n      <td>-0.429</td>\n      <td>0.000</td>\n      <td>0.554</td>\n      <td>0.000</td>\n      <td>2.0</td>\n      <td>1.0</td>\n      <td>NaN</td>\n    </tr>\n    <tr>\n      <th>4</th>\n      <td>5</td>\n      <td>2</td>\n      <td>5</td>\n      <td>3</td>\n      <td>3</td>\n      <td>2</td>\n      <td>5</td>\n      <td>5</td>\n      <td>3</td>\n      <td>0.000</td>\n      <td>-0.770</td>\n      <td>0.097</td>\n      <td>0.546</td>\n      <td>0.554</td>\n      <td>0.684</td>\n      <td>1.0</td>\n      <td>0.0</td>\n      <td>0.0</td>\n    </tr>\n  </tbody>\n</table>\n</div>"
          },
          "metadata": {}
        }
      ]
    },
    {
      "cell_type": "code",
      "source": "key2=['Risk','NoFaceContact','Sick','HndWshFreq']\nd2=pd.DataFrame(df[key2])\nd2.isnull().sum()",
      "metadata": {
        "trusted": true
      },
      "execution_count": 13,
      "outputs": [
        {
          "execution_count": 13,
          "output_type": "execute_result",
          "data": {
            "text/plain": "Risk              0\nNoFaceContact     0\nSick             36\nHndWshFreq        0\ndtype: int64"
          },
          "metadata": {}
        }
      ]
    },
    {
      "cell_type": "code",
      "source": "d2['Sick'].fillna(value=np.mean(d2['Sick']),inplace=True)",
      "metadata": {
        "trusted": true
      },
      "execution_count": 14,
      "outputs": []
    },
    {
      "cell_type": "code",
      "source": "def clustercentroidfour(cluster):\n x = [c[0] for c in cluster]\n y = [c[1] for c in cluster]\n z = [c[2] for c in cluster]\n w = [c[3] for c in cluster]\n size = len(cluster)\n cx = sum(x)/size\n cy = sum(y)/size\n cz = sum(z)/size\n cw = sum(w)/size\n return [cx,cy,cz,cw]",
      "metadata": {
        "trusted": true
      },
      "execution_count": 15,
      "outputs": []
    },
    {
      "cell_type": "code",
      "source": "def kmeans4(d,k,maxiter):\n    data=np.array(d)\n    n,m=data.shape\n    centers=[[] for i in range(k)]\n    for i in range(k):\n        centers[i]=data[i,:]\n    clusters=[[] for i in range(k)]\n    dc=[[] for i in range(k)]\n    cent=[[] for i in range(k)]\n    distances=[[[] for j in range(k)] for i in range(n)]\n    for iter in range(maxiter):\n        clusters=[[] for i in range(k)]    \n        for i in range(n):\n            for j in range(k):\n                distances[i][j]=math.sqrt(((centers[j][0]-data[i,0])*(centers[j][0]-data[i,0]))+((centers[j][1]-data[i,1])*(centers[j][1]-data[i,1]))+((centers[j][2]-data[i,2])*(centers[j][2]-data[i,2]))+((centers[j][3]-data[i,3])*(centers[j][3]-data[i,3])))\n            dc=distances[i]\n            clusters[dc.index(min(dc))].append([data[i,0],data[i,1],data[i,2],data[i,3]])   \n        for i in range(k):\n            cent[i]=clustercentroidfour(clusters[i])   \n        centers=cent\n    mn = sys.maxsize\n    for i in range(k):\n        for j in range(i+1,k):\n            for h in range(len(clusters[i])):\n                for l in range(len(clusters[j])):\n                    dist=math.dist(data[i],data[j])\n                    if(dist < mn):\n                        mn=dist        \n    mx=0           \n    for g in range(k):\n        for i in range(len(clusters[g])):\n            for j in range(i+1,len(clusters[g])):\n                dist=math.dist(clusters[g][i],clusters[g][j])\n                if(dist > mx):\n                    mx=dist \n    index=mn/mx\n    return centers,index",
      "metadata": {
        "trusted": true
      },
      "execution_count": 16,
      "outputs": []
    },
    {
      "cell_type": "code",
      "source": "mx=0\ncent=[[] for i in range(4)]\nfor i in range(2,11):\n    centers,di=kmeans4(d2,i,10)\n    print(\"dunn index for k = {} is {}\".format(i,di))\n    if(di > mx):\n        mx=di\n        kvalue=i\n        cent=centers\nprint(\"max dunn index is for k={}, value is {} so it gives better clustering\".format(kvalue,mx))",
      "metadata": {
        "trusted": true
      },
      "execution_count": 17,
      "outputs": [
        {
          "name": "stdout",
          "text": "dunn index for k = 2 is 0.19662962893045735\ndunn index for k = 3 is 0.23530774829125983\ndunn index for k = 4 is 0.23704135844676322\ndunn index for k = 5 is 0.1899875015756121\ndunn index for k = 6 is 0.1899875015756121\ndunn index for k = 7 is 0.06196182946343003\ndunn index for k = 8 is 0.06196182946343003\ndunn index for k = 9 is 0.0625719807804186\ndunn index for k = 10 is 0.030651202179393468\nmax dunn index is for k=4, value is 0.23704135844676322 so it gives better clustering\n",
          "output_type": "stream"
        }
      ]
    },
    {
      "cell_type": "code",
      "source": "",
      "metadata": {},
      "execution_count": null,
      "outputs": []
    },
    {
      "cell_type": "code",
      "source": "",
      "metadata": {},
      "execution_count": null,
      "outputs": []
    }
  ]
}