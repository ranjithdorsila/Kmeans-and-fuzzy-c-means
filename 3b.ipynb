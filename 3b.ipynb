{
  "metadata": {
    "language_info": {
      "codemirror_mode": {
        "name": "python",
        "version": 3
      },
      "file_extension": ".py",
      "mimetype": "text/x-python",
      "name": "python",
      "nbconvert_exporter": "python",
      "pygments_lexer": "ipython3",
      "version": "3.8"
    },
    "kernelspec": {
      "name": "python",
      "display_name": "Python (Pyodide)",
      "language": "python"
    }
  },
  "nbformat_minor": 4,
  "nbformat": 4,
  "cells": [
    {
      "cell_type": "code",
      "source": "import numpy as np\nimport pandas as pd\nimport matplotlib.pyplot as plt\nimport math\nimport sys\nimport random",
      "metadata": {
        "trusted": true
      },
      "execution_count": 1,
      "outputs": []
    },
    {
      "cell_type": "code",
      "source": "s = 'flu_data.csv'\ndf = pd.read_csv(s)\nkey=['Risk','NoFaceContact','Sick','HndWshFreq']\nd=pd.DataFrame(df[key])\nd['Sick'].fillna(value=np.mean(d['Sick']),inplace=True)",
      "metadata": {
        "trusted": true
      },
      "execution_count": 6,
      "outputs": []
    },
    {
      "cell_type": "code",
      "source": "def hardfuzzy(d,k,m,maxiter):\n    error=100\n    data=np.array(d)\n    n,m=data.shape\n    centers=[[] for i in range(k)]\n    membership=[]\n    clusters=[[] for i in range(k)]\n    cent=[[] for i in range(k)]\n    distances=[[[] for j in range(k)] for i in range(n)]\n    for i in range(n):\n        x =random.randint(0,1)\n        y=random.randint(0, 1-x)\n        z=random.randint(0,1-x-y)\n        v=1-x-y-z\n        membership.append([x,y,z,v])\n    for j in range(k):\n            num=0\n            den=0\n            for i in range(n):\n                num=num+(math.pow(membership[i][j],m)*data[i])\n                den=den+(math.pow(membership[i][j],m))\n            centers[j]=num/den  \n    cent=centers        \n    for ite in range(maxiter):\n        if(error < 0.000000001):\n            break\n        for i in range(n):\n            for j in range(k):\n                distances[i][j]=math.sqrt(((centers[j][0]-data[i,0])*(centers[j][0]-data[i,0]))+((centers[j][1]-data[i,1])*(centers[j][1]-data[i,1]))+((centers[j][2]-data[i,2])*(centers[j][2]-data[i,2]))+((centers[j][3]-data[i,3])*(centers[j][3]-data[i,3])))\n                if(distances[i][j]==0):\n                    distances[i][j]=0.001\n            dc=distances[i]        \n            clusters[dc.index(min(dc))].append([data[i,0],data[i,1],data[i,2],data[i,3]])        \n        for i in range(n):\n            for j in range(k):\n                p=0\n                for f in range(k):\n                    p=p+((math.pow(distances[i][j],(2/(m-1))))/(math.pow(distances[i][f],(2/(m-1))))) \n                membership[i][j]=round(1/p,3)       \n        for j in range(k):\n            num=0\n            den=0\n            for i in range(n):\n                num=num+(math.pow(membership[i][j],m)*data[i])\n                den=den+(math.pow(membership[i][j],m))\n            centers[j]=num/den   \n        su=0    \n        for i in range(k): \n            su=su+math.dist(centers[i],cent[i])    \n        cent=centers\n        error=su/k\n    mn = sys.maxsize\n    for i in range(k):\n        for j in range(i+1,k):\n            for h in range(len(clusters[i])):\n                for l in range(len(clusters[j])):\n                    dist=math.dist(data[i],data[j])\n                    if(dist < mn):\n                        mn=dist        \n    mx=0           \n    for g in range(k):\n        for i in range(len(clusters[g])):\n            for j in range(i+1,len(clusters[g])):\n                dist=math.dist(clusters[g][i],clusters[g][j])\n                if(dist > mx):\n                    mx=dist \n    index=mn/mx\n    print(index)\n    for g in centers:\n        print(g)    \nhardfuzzy(d,3,2,20)        ",
      "metadata": {
        "trusted": true
      },
      "execution_count": 11,
      "outputs": [
        {
          "name": "stdout",
          "text": "0.1811294732816565\n[-0.08943841  2.50271796  1.00198028  3.25181485]\n[-0.09876108  2.36473038  0.97580018  3.09277382]\n[-0.12381104  2.49839085  0.98268159  3.34623524]\n",
          "output_type": "stream"
        }
      ]
    },
    {
      "cell_type": "code",
      "source": "",
      "metadata": {},
      "execution_count": null,
      "outputs": []
    }
  ]
}